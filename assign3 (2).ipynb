{
 "cells": [
  {
   "cell_type": "raw",
   "id": "d185e514",
   "metadata": {},
   "source": [
    "1. Why are functions advantageous to have in your programs?\n",
    "The advantages of using functions are: Reducing duplication of code. Decomposing complex problems into simpler pieces. Improving clarity of the code."
   ]
  },
  {
   "cell_type": "raw",
   "id": "17d0955e",
   "metadata": {},
   "source": [
    "2. When does the code in a function run: when its specified or when its called?\n",
    " when function is called\n",
    " "
   ]
  },
  {
   "cell_type": "raw",
   "id": "b8468a33",
   "metadata": {},
   "source": [
    "3. What statement creates a function?\n",
    "def "
   ]
  },
  {
   "cell_type": "raw",
   "id": "dd4beda7",
   "metadata": {},
   "source": [
    "4. What is the difference between a function and a function call?\n",
    "A function call means invoking or calling that function. Unless a function is called there is no use of that function. ... So the difference between the function and function call is, A function is procedure to achieve a particular result while function call is using this function to achive that task."
   ]
  },
  {
   "cell_type": "raw",
   "id": "002e735e",
   "metadata": {},
   "source": [
    "5. How many global scopes are there in a Python program? How many local scopes?\n",
    "There's only one global Python scope per program execution. This scope remains in existence until the program terminates and all its names are forgotten. Otherwise, the next time you were to run the program, the names would remember their values from the previous run.\n",
    "A variable created inside a function belongs to the local scope of that function, and can only be used inside that function."
   ]
  },
  {
   "cell_type": "raw",
   "id": "1f13a60e",
   "metadata": {},
   "source": [
    "6. What happens to variables in a local scope when the function call returns?\n",
    "When the execution of the function terminates (returns), the local variables are destroyed. Codelens helps you visualize this because the local variables disappear after the function returns."
   ]
  },
  {
   "cell_type": "raw",
   "id": "cb9fa03d",
   "metadata": {},
   "source": [
    "7. What is the concept of a return value? Is it possible to have a return value in an expression?\n",
    "A return is a value that a function returns to the calling script or function when it completes its task. no."
   ]
  },
  {
   "cell_type": "raw",
   "id": "8dcbf7ec",
   "metadata": {},
   "source": [
    "8. If a function does not have a return statement, what is the return value of a call to that function?\n",
    "if expression is omitted, the return value of the function is undefined. ... If no return statement appears in a function definition, control automatically returns to the calling function after the last statement of the called function is executed. In this case, the return value of the called function is undefined."
   ]
  },
  {
   "cell_type": "raw",
   "id": "6c9ba956",
   "metadata": {},
   "source": [
    "9. How do you make a function variable refer to the global variable?\n",
    "Use of “global†keyword to modify global variable inside a function. If your function has a local variable with same name as global variable and you want to modify the global variable inside function then use 'global' keyword before the variable name at start of function ."
   ]
  },
  {
   "cell_type": "raw",
   "id": "42be1278",
   "metadata": {},
   "source": [
    "10. What is the data type of None?\n",
    "None is used to define a null value. It is not the same as an empty string, False, or a zero. It is a data type of the class NoneType object. Assigning a value of None to a variable is one way to reset it to its original, empty state."
   ]
  },
  {
   "cell_type": "raw",
   "id": "b0af5f8b",
   "metadata": {},
   "source": [
    "11. What does the sentence import areallyourpetsnamederic do?\n",
    "imports a module name areallyourpetsnamederic."
   ]
  },
  {
   "cell_type": "raw",
   "id": "3beae3b0",
   "metadata": {},
   "source": [
    "12. If you had a bacon() feature in a spam module, what would you call it after importing spam?\n",
    "ans-import sapm\n",
    "     spam.bacon()"
   ]
  },
  {
   "cell_type": "raw",
   "id": "d24a0e5b",
   "metadata": {},
   "source": [
    "13. What can you do to save a programme from crashing if it encounters an error?\n",
    "ans- Error handling can be used to notify the user of why the error ocurred and gracefully exit the process that caused the error."
   ]
  },
  {
   "cell_type": "raw",
   "id": "c1ed93f0",
   "metadata": {},
   "source": [
    "14. What is the purpose of the try clause? What is the purpose of the except clause?\n",
    "ans- In the try block, we write the code in which there are chances of any error or exception to occur.\n",
    "Whereas the except block is responsible for catching the exception and executing the statements specified inside it."
   ]
  },
  {
   "cell_type": "code",
   "execution_count": null,
   "id": "6e22c40b",
   "metadata": {},
   "outputs": [],
   "source": []
  }
 ],
 "metadata": {
  "kernelspec": {
   "display_name": "Python 3 (ipykernel)",
   "language": "python",
   "name": "python3"
  },
  "language_info": {
   "codemirror_mode": {
    "name": "ipython",
    "version": 3
   },
   "file_extension": ".py",
   "mimetype": "text/x-python",
   "name": "python",
   "nbconvert_exporter": "python",
   "pygments_lexer": "ipython3",
   "version": "3.9.7"
  }
 },
 "nbformat": 4,
 "nbformat_minor": 5
}
